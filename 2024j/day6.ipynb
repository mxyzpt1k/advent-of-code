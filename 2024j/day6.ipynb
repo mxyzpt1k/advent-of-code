{
 "cells": [
  {
   "cell_type": "code",
   "execution_count": 133,
   "id": "60994c8b",
   "metadata": {},
   "outputs": [],
   "source": [
    "#       --------Part 1--------   --------Part 2--------\n",
    "# Day       Time   Rank  Score       Time   Rank  Score\n",
    "#   6   01:25:57  12173      0   01:48:07   6770      0"
   ]
  },
  {
   "cell_type": "code",
   "execution_count": 134,
   "id": "07fbec1e",
   "metadata": {},
   "outputs": [],
   "source": [
    "f = open(\"day6.2024.input.txt\")\n",
    "#f = open(\"day6.test\")\n",
    "lines = readlines(f)\n",
    "close(f)\n",
    "Original = reverse(rotr90(stack(lines)), dims=2)\n",
    "A = copy(Original);"
   ]
  },
  {
   "cell_type": "code",
   "execution_count": 135,
   "id": "c5a4a0cc",
   "metadata": {},
   "outputs": [
    {
     "data": {
      "text/plain": [
       "(97, 70)"
      ]
     },
     "execution_count": 135,
     "metadata": {},
     "output_type": "execute_result"
    }
   ],
   "source": [
    "rows,cols = size(A)\n",
    "start = undef\n",
    "for r =1:rows\n",
    "    for c = 1:cols\n",
    "        if A[r,c] == '^'\n",
    "            start = (r,c)\n",
    "        end\n",
    "    end\n",
    "end\n",
    "start"
   ]
  },
  {
   "cell_type": "code",
   "execution_count": 125,
   "id": "5230a9f6",
   "metadata": {},
   "outputs": [],
   "source": [
    "## part 1"
   ]
  },
  {
   "cell_type": "code",
   "execution_count": 139,
   "id": "0c3168cf",
   "metadata": {},
   "outputs": [
    {
     "data": {
      "text/plain": [
       "solve (generic function with 1 method)"
      ]
     },
     "execution_count": 139,
     "metadata": {},
     "output_type": "execute_result"
    }
   ],
   "source": [
    "function mark(A,row,col)\n",
    "    if A[row,col] == '.'\n",
    "        A[row,col] = '@'\n",
    "    end\n",
    "end\n",
    "\n",
    "function solve(A,start)\n",
    "    finished = false\n",
    "    rows,cols=size(A)\n",
    "    p = start\n",
    "    k = 0\n",
    "    while k < 100000\n",
    "        k += 1\n",
    "        row, col = p\n",
    "        f = A[row-1,col]\n",
    "        if f == '%'  # a border\n",
    "            mark(A,row,col)\n",
    "            finished = true\n",
    "            break\n",
    "        elseif f == '#'  # an obstacle\n",
    "            A = rotl90(A)\n",
    "            p = (rows-col+1, row)\n",
    "        else\n",
    "            mark(A,row,col)\n",
    "            p = (row-1, col)\n",
    "        end\n",
    "    end\n",
    "    (A, finished)\n",
    "end"
   ]
  },
  {
   "cell_type": "code",
   "execution_count": 140,
   "id": "e3cb9bbc",
   "metadata": {},
   "outputs": [
    {
     "data": {
      "text/plain": [
       "4776"
      ]
     },
     "execution_count": 140,
     "metadata": {},
     "output_type": "execute_result"
    }
   ],
   "source": [
    "A, finished = solve(A, start)\n",
    "n = 0\n",
    "rows,cols = size(A)\n",
    "for row = 1:rows\n",
    "    for col = 1:cols\n",
    "        if A[row,col] == '@'\n",
    "            n += 1\n",
    "        end\n",
    "    end\n",
    "end\n",
    "n+1"
   ]
  },
  {
   "cell_type": "code",
   "execution_count": 92,
   "id": "a9d75595",
   "metadata": {},
   "outputs": [],
   "source": [
    "## part 2"
   ]
  },
  {
   "cell_type": "code",
   "execution_count": 142,
   "id": "79171f05",
   "metadata": {},
   "outputs": [
    {
     "data": {
      "text/plain": [
       "(132, 132)"
      ]
     },
     "execution_count": 142,
     "metadata": {},
     "output_type": "execute_result"
    }
   ],
   "source": [
    "size(Original)"
   ]
  },
  {
   "cell_type": "code",
   "execution_count": null,
   "id": "2ee10e37",
   "metadata": {},
   "outputs": [],
   "source": []
  }
 ],
 "metadata": {
  "kernelspec": {
   "display_name": "Julia 1.11.1",
   "language": "julia",
   "name": "julia-1.11"
  },
  "language_info": {
   "file_extension": ".jl",
   "mimetype": "application/julia",
   "name": "julia",
   "version": "1.11.1"
  }
 },
 "nbformat": 4,
 "nbformat_minor": 5
}
