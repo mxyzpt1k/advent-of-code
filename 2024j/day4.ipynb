{
 "cells": [
  {
   "cell_type": "code",
   "execution_count": 102,
   "id": "b414657d",
   "metadata": {},
   "outputs": [],
   "source": [
    "#          --------Part 1--------   --------Part 2--------\n",
    "#    Day       Time   Rank  Score       Time   Rank  Score\n",
    "#       4   01:03:10  10952      0   01:26:58  10381      0"
   ]
  },
  {
   "cell_type": "code",
   "execution_count": 96,
   "id": "cad6c306",
   "metadata": {},
   "outputs": [],
   "source": [
    "#f = open(\"test.input.txt\")"
   ]
  },
  {
   "cell_type": "code",
   "execution_count": 98,
   "id": "20043e08",
   "metadata": {},
   "outputs": [],
   "source": [
    "f = open(\"day4.2024.input.txt\")\n",
    "dat = readlines(f)\n",
    "close(f)\n",
    "A = stack(dat);"
   ]
  },
  {
   "cell_type": "code",
   "execution_count": 106,
   "id": "b493fffa",
   "metadata": {},
   "outputs": [
    {
     "data": {
      "text/plain": [
       "0"
      ]
     },
     "execution_count": 106,
     "metadata": {},
     "output_type": "execute_result"
    }
   ],
   "source": [
    "count = 0"
   ]
  },
  {
   "cell_type": "code",
   "execution_count": 103,
   "id": "87df171f",
   "metadata": {},
   "outputs": [],
   "source": [
    "# Part 1"
   ]
  },
  {
   "cell_type": "code",
   "execution_count": 104,
   "id": "ca95c3d5",
   "metadata": {},
   "outputs": [
    {
     "data": {
      "text/plain": [
       "2685"
      ]
     },
     "execution_count": 104,
     "metadata": {},
     "output_type": "execute_result"
    }
   ],
   "source": [
    "## let's try generating indexes for each direction\n",
    "\n",
    "function search_horz(fun, A)\n",
    "    rows, cols = size(A)\n",
    "    for r in 1:rows\n",
    "        for c in 1:cols - 3\n",
    "            fun(A[r,c:c+3])\n",
    "        end\n",
    "    end\n",
    "end\n",
    "\n",
    "function search_diag(fun,A)\n",
    "    rows,cols = size(A)\n",
    "    for r in 1 : rows - 3\n",
    "        for c in 1 : cols - 3\n",
    "            v = [A[r,c],A[r+1,c+1],A[r+2,c+2],A[r+3,c+3]]\n",
    "            fun(v)\n",
    "        end\n",
    "    end\n",
    "end\n",
    "\n",
    "function xsearch(v)\n",
    "    global count\n",
    "    if v == ['X','M','A','S']\n",
    "        count += 1\n",
    "    elseif v == ['S','A','M','X']\n",
    "        count += 1\n",
    "    end\n",
    "end\n",
    "\n",
    "count = 0\n",
    "function search_xmas(A)\n",
    "    global count\n",
    "    count = 0\n",
    "    search_horz(xsearch, A)\n",
    "    search_horz(xsearch, rotl90(A))\n",
    "    search_diag(xsearch, A)\n",
    "    search_diag(xsearch, rotl90(A))\n",
    "    count\n",
    "end\n",
    "\n",
    "count = 0\n",
    "search_xmas(A)\n"
   ]
  },
  {
   "cell_type": "code",
   "execution_count": null,
   "id": "38aaf396",
   "metadata": {},
   "outputs": [],
   "source": [
    "## Part 2"
   ]
  },
  {
   "cell_type": "code",
   "execution_count": 105,
   "id": "6a8f9c50",
   "metadata": {},
   "outputs": [
    {
     "data": {
      "text/plain": [
       "2048"
      ]
     },
     "execution_count": 105,
     "metadata": {},
     "output_type": "execute_result"
    }
   ],
   "source": [
    "function search_mas(fun, A)\n",
    "    rows, cols = size(A)\n",
    "    for r in 1:rows-2\n",
    "        for c in 1:cols-2\n",
    "            ary = A[r:r+2,c:c+2]\n",
    "            fun(ary)\n",
    "        en\n",
    "    end\n",
    "end\n",
    "\n",
    "function corners(A, a, b, c, d)\n",
    "    global count\n",
    "    if A[1,1] == a && A[3,1] == b && A[1,3] == c && A[3,3] == d\n",
    "        count += 1\n",
    "    end\n",
    "end\n",
    "\n",
    "function is_xmas(A)\n",
    "    if A[2,2] == 'A'\n",
    "        corners(A, 'M', 'S', 'M', 'S')\n",
    "        #corners(A, 'S', 'M', 'M', 'S')  # invalid\n",
    "        corners(A, 'S', 'M', 'S', 'M')\n",
    "        #corners(A, 'M', 'S', 'S', 'M')  # invalid\n",
    "        corners(A, 'M', 'M', 'S', 'S')\n",
    "        corners(A, 'S', 'S', 'M', 'M')\n",
    "    end\n",
    "end\n",
    "\n",
    "count = 0\n",
    "search_mas(is_xmas, A)\n",
    "count"
   ]
  },
  {
   "cell_type": "code",
   "execution_count": null,
   "id": "92326052",
   "metadata": {},
   "outputs": [],
   "source": []
  }
 ],
 "metadata": {
  "kernelspec": {
   "display_name": "Julia 1.11.1",
   "language": "julia",
   "name": "julia-1.11"
  },
  "language_info": {
   "file_extension": ".jl",
   "mimetype": "application/julia",
   "name": "julia",
   "version": "1.11.1"
  }
 },
 "nbformat": 4,
 "nbformat_minor": 5
}
