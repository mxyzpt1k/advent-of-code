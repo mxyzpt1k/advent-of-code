{
 "cells": [
  {
   "cell_type": "markdown",
   "id": "4a24cffa",
   "metadata": {},
   "source": [
    "# Day 1: Historian Hysteria"
   ]
  },
  {
   "cell_type": "markdown",
   "id": "ffc6bb72",
   "metadata": {},
   "source": [
    "Advent of Code 2024"
   ]
  },
  {
   "cell_type": "markdown",
   "id": "1cefcfb7",
   "metadata": {},
   "source": [
    "December 1, 2024"
   ]
  },
  {
   "cell_type": "code",
   "execution_count": 1,
   "id": "2c3ebb86",
   "metadata": {},
   "outputs": [],
   "source": [
    "using DelimitedFiles"
   ]
  },
  {
   "cell_type": "markdown",
   "id": "ae4bfd71",
   "metadata": {},
   "source": [
    "## Part 1"
   ]
  },
  {
   "cell_type": "code",
   "execution_count": 52,
   "id": "867dcee6",
   "metadata": {},
   "outputs": [
    {
     "data": {
      "text/plain": [
       "2815556"
      ]
     },
     "execution_count": 52,
     "metadata": {},
     "output_type": "execute_result"
    }
   ],
   "source": [
    "A = readdlm(\"day1.2024.input.txt\", Int)\n",
    "xs = sort(getindex(A, :, 1))\n",
    "ys = sort(getindex(A, :, 2))\n",
    "sum(abs.(xs - ys))"
   ]
  },
  {
   "cell_type": "markdown",
   "id": "71fcc8ed",
   "metadata": {},
   "source": [
    "## Part 2"
   ]
  },
  {
   "cell_type": "code",
   "execution_count": 66,
   "id": "48c9ecc0",
   "metadata": {},
   "outputs": [
    {
     "data": {
      "text/plain": [
       "23927637"
      ]
     },
     "execution_count": 66,
     "metadata": {},
     "output_type": "execute_result"
    }
   ],
   "source": [
    "d = Dict{Int,Int}()\n",
    "for y in ys\n",
    "    n = get(d, y, 0)\n",
    "    setindex!(d, n+1, y)\n",
    "end\n",
    "score = 0\n",
    "for x in xs\n",
    "    score += (x * get(d, x, 0))\n",
    "end\n",
    "score"
   ]
  }
 ],
 "metadata": {
  "kernelspec": {
   "display_name": "Julia 1.6.0",
   "language": "julia",
   "name": "julia-1.6"
  },
  "language_info": {
   "file_extension": ".jl",
   "mimetype": "application/julia",
   "name": "julia",
   "version": "1.6.4"
  }
 },
 "nbformat": 4,
 "nbformat_minor": 5
}
