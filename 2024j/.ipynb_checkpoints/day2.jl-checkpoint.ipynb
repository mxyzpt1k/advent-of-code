{
 "cells": [
  {
   "cell_type": "markdown",
   "id": "d4c3f81f",
   "metadata": {},
   "source": [
    "# Day 2: Red-Nosed Reports"
   ]
  },
  {
   "cell_type": "markdown",
   "id": "9a853e31",
   "metadata": {},
   "source": [
    "Advent of code, December 2, 2024"
   ]
  },
  {
   "cell_type": "code",
   "execution_count": 3,
   "id": "38bcda8f",
   "metadata": {},
   "outputs": [],
   "source": [
    "f = open(\"day2.input.txt\")\n",
    "lines = readlines(f)\n",
    "close(f)"
   ]
  },
  {
   "cell_type": "markdown",
   "id": "0812253f",
   "metadata": {},
   "source": [
    "## Part 1"
   ]
  },
  {
   "cell_type": "code",
   "execution_count": 5,
   "id": "ea33ef35",
   "metadata": {},
   "outputs": [],
   "source": [
    "function ascending(ary)\n",
    "    ary == sort(ary)\n",
    "end\n",
    "\n",
    "function spaced(ary)\n",
    "    first = ary[1]\n",
    "    for x in ary[2:length(ary)]\n",
    "        diff = first - x\n",
    "        if abs(diff) < 1 || abs(diff) > 3\n",
    "            return false\n",
    "        end\n",
    "        first = x\n",
    "    end\n",
    "    true\n",
    "end\n",
    "\n",
    "function issafe(ary)\n",
    "    (ascending(ary) || ascending(reverse(ary))) && spaced(ary)\n",
    "end;"
   ]
  },
  {
   "cell_type": "markdown",
   "id": "5f8598dd",
   "metadata": {},
   "source": [
    "## Part 2"
   ]
  },
  {
   "cell_type": "code",
   "execution_count": 7,
   "id": "a6050fb8",
   "metadata": {},
   "outputs": [],
   "source": [
    "function issafe_part2(ary)\n",
    "    if issafe(ary)\n",
    "        return true\n",
    "    else\n",
    "        for i in 1:length(ary)\n",
    "            if issafe(ary[filter(x -> x != i, 1:length(ary))])\n",
    "                return true\n",
    "            end\n",
    "        end\n",
    "    end\n",
    "    false\n",
    "end;"
   ]
  },
  {
   "cell_type": "markdown",
   "id": "2326c3da",
   "metadata": {},
   "source": [
    "## main"
   ]
  },
  {
   "cell_type": "code",
   "execution_count": 8,
   "id": "fb3f068a",
   "metadata": {},
   "outputs": [
    {
     "data": {
      "text/plain": [
       "(321, 386)"
      ]
     },
     "execution_count": 8,
     "metadata": {},
     "output_type": "execute_result"
    }
   ],
   "source": [
    "count = 0\n",
    "count2 = 0\n",
    "for line in lines\n",
    "    ary = map(x -> parse(Int, x), split(line))\n",
    "    if issafe(ary)\n",
    "        count += 1\n",
    "    end\n",
    "    if issafe_part2(ary)\n",
    "        count2 += 1\n",
    "    end\n",
    "end\n",
    "count, count2"
   ]
  },
  {
   "cell_type": "code",
   "execution_count": null,
   "id": "f071789a",
   "metadata": {},
   "outputs": [],
   "source": []
  }
 ],
 "metadata": {
  "kernelspec": {
   "display_name": "Julia 1.6.0",
   "language": "julia",
   "name": "julia-1.6"
  },
  "language_info": {
   "file_extension": ".jl",
   "mimetype": "application/julia",
   "name": "julia",
   "version": "1.6.4"
  }
 },
 "nbformat": 4,
 "nbformat_minor": 5
}
